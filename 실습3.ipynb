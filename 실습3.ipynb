{
  "nbformat": 4,
  "nbformat_minor": 0,
  "metadata": {
    "colab": {
      "provenance": [],
      "mount_file_id": "1bx37jLnBMxgRNvyTtGsTWU9C58UKOi8A",
      "authorship_tag": "ABX9TyMXRq9ixkvdTi7UuoB8CXUY",
      "include_colab_link": true
    },
    "kernelspec": {
      "name": "python3",
      "display_name": "Python 3"
    },
    "language_info": {
      "name": "python"
    },
    "accelerator": "GPU",
    "gpuClass": "standard"
  },
  "cells": [
    {
      "cell_type": "markdown",
      "metadata": {
        "id": "view-in-github",
        "colab_type": "text"
      },
      "source": [
        "<a href=\"https://colab.research.google.com/github/sominshim/DL_beginner/blob/main/%EC%8B%A4%EC%8A%B53.ipynb\" target=\"_parent\"><img src=\"https://colab.research.google.com/assets/colab-badge.svg\" alt=\"Open In Colab\"/></a>"
      ]
    },
    {
      "cell_type": "markdown",
      "source": [
        "# DL_4_3_multi_layers.py"
      ],
      "metadata": {
        "id": "z_1-QbIWU67b"
      }
    },
    {
      "cell_type": "code",
      "execution_count": null,
      "metadata": {
        "colab": {
          "base_uri": "https://localhost:8080/"
        },
        "id": "grqcUbMXUDF5",
        "outputId": "08d2b426-a51b-4efa-e47f-e580e56409fe"
      },
      "outputs": [
        {
          "output_type": "stream",
          "name": "stdout",
          "text": [
            "Downloading data from https://storage.googleapis.com/tensorflow/tf-keras-datasets/mnist.npz\n",
            "11490434/11490434 [==============================] - 0s 0us/step\n"
          ]
        }
      ],
      "source": [
        "import tensorflow as tf\n",
        "\n",
        "mnist = tf.keras.datasets.mnist.load_data()"
      ]
    },
    {
      "cell_type": "code",
      "source": [
        "type(mnist)"
      ],
      "metadata": {
        "colab": {
          "base_uri": "https://localhost:8080/"
        },
        "id": "kq25ZGurVoeN",
        "outputId": "839e1d28-325f-4703-a71a-7a85ddb1aa1a"
      },
      "execution_count": null,
      "outputs": [
        {
          "output_type": "execute_result",
          "data": {
            "text/plain": [
              "tuple"
            ]
          },
          "metadata": {},
          "execution_count": 4
        }
      ]
    },
    {
      "cell_type": "code",
      "source": [
        "(x_train, y_train), (x_test, y_test) = mnist"
      ],
      "metadata": {
        "id": "PP1Exn5rVOAI"
      },
      "execution_count": null,
      "outputs": []
    },
    {
      "cell_type": "code",
      "source": [
        "print(x_train.shape, x_test.shape)\n",
        "print(y_train.shape, y_test.shape)"
      ],
      "metadata": {
        "colab": {
          "base_uri": "https://localhost:8080/"
        },
        "id": "b5xD7hc7VQxk",
        "outputId": "22dc780d-7047-4ce4-91ca-cac1d2f8bb53"
      },
      "execution_count": null,
      "outputs": [
        {
          "output_type": "stream",
          "name": "stdout",
          "text": [
            "(60000, 28, 28) (10000, 28, 28)\n",
            "(60000,) (10000,)\n"
          ]
        }
      ]
    },
    {
      "cell_type": "markdown",
      "source": [
        "### 3차원에서 2차원으로 변경하기"
      ],
      "metadata": {
        "id": "lXzNATxlW7wd"
      }
    },
    {
      "cell_type": "code",
      "source": [
        "x_train = x_train.reshape(-1, 784)\n",
        "x_test = x_test.reshape(-1, 784)"
      ],
      "metadata": {
        "id": "wUHAB6XeWjwx"
      },
      "execution_count": null,
      "outputs": []
    },
    {
      "cell_type": "code",
      "source": [
        "print(x_train.shape, x_test.shape)"
      ],
      "metadata": {
        "colab": {
          "base_uri": "https://localhost:8080/"
        },
        "id": "Bo8jAHllW5HN",
        "outputId": "902bac08-5cf5-4203-e189-4b8452695465"
      },
      "execution_count": null,
      "outputs": [
        {
          "output_type": "stream",
          "name": "stdout",
          "text": [
            "(60000, 784) (10000, 784)\n"
          ]
        }
      ]
    },
    {
      "cell_type": "code",
      "source": [
        "28*28"
      ],
      "metadata": {
        "colab": {
          "base_uri": "https://localhost:8080/"
        },
        "id": "QI6-ejLqXeeW",
        "outputId": "0bdba815-9518-4412-e567-6fb667baf800"
      },
      "execution_count": null,
      "outputs": [
        {
          "output_type": "execute_result",
          "data": {
            "text/plain": [
              "784"
            ]
          },
          "metadata": {},
          "execution_count": 9
        }
      ]
    },
    {
      "cell_type": "code",
      "source": [
        "# minmax scale\n",
        "x_train = x_train/255\n",
        "x_test = x_test/255"
      ],
      "metadata": {
        "id": "ZcMjzjAXcPjU"
      },
      "execution_count": null,
      "outputs": []
    },
    {
      "cell_type": "markdown",
      "source": [
        "## Quiz\n",
        "mnist 데이터에 대해 동작하는 모델을 구축하세요."
      ],
      "metadata": {
        "id": "u1HK9tEdYx0o"
      }
    },
    {
      "cell_type": "code",
      "source": [
        "def softmax_regression_onehot(x, y):\n",
        "    model = tf.keras.Sequential()\n",
        "\n",
        "    # 학습할 때 각 레이어는 독립적이야 한다. \n",
        "    # 이를 위해서 non-linear 함수(relu)를 넣는다. > 앞에서 나오는 값에 변형을 준다.\n",
        "    # softmax, sigmoid  같은 활성화 함수는 weight 값을 0에 가깝게 수렴한다. \n",
        "    # 때문에 학습이 안된다. > banishing\n",
        "    model.add(tf.keras.layers.Input(shape=[784]))\n",
        "    # (100, 256) = (100, 784) @ (784, 256) \n",
        "    model.add(tf.keras.layers.Dense(256, activation='relu'))\n",
        "    # (100, 256) = (100, 256) @ (256, 256) \n",
        "    model.add(tf.keras.layers.Dense(256, activation='softmax')) \n",
        "    # (100, 10) = (100, 256) @ (256, 10) \n",
        "    model.add(tf.keras.layers.Dense(10, activation='softmax'))\n",
        "    model.summary()    \n",
        "\n",
        "    # optimizer = SGD, Adam, RMSProp\n",
        "    model.compile(optimizer=tf.keras.optimizers.Adam(0.001),\n",
        "                loss=tf.keras.losses.sparse_categorical_crossentropy,\n",
        "                metrics='acc')\n",
        "\n",
        "    model.fit(x, y, epochs=10, batch_size=100, verbose=1, \n",
        "              validation_split=0.2) # default batch=32 \n",
        "\n",
        "    return model"
      ],
      "metadata": {
        "id": "Gus3yeXiYLwt"
      },
      "execution_count": null,
      "outputs": []
    },
    {
      "cell_type": "code",
      "source": [
        "model = softmax_regression_onehot(x_train, y_train)"
      ],
      "metadata": {
        "colab": {
          "base_uri": "https://localhost:8080/"
        },
        "id": "pfBXEejLZQEW",
        "outputId": "7d3b2c10-8f99-47c0-db54-4919cace923b"
      },
      "execution_count": null,
      "outputs": [
        {
          "output_type": "stream",
          "name": "stdout",
          "text": [
            "Model: \"sequential_6\"\n",
            "_________________________________________________________________\n",
            " Layer (type)                Output Shape              Param #   \n",
            "=================================================================\n",
            " dense_8 (Dense)             (None, 256)               200960    \n",
            "                                                                 \n",
            " dense_9 (Dense)             (None, 256)               65792     \n",
            "                                                                 \n",
            " dense_10 (Dense)            (None, 256)               65792     \n",
            "                                                                 \n",
            " dense_11 (Dense)            (None, 10)                2570      \n",
            "                                                                 \n",
            "=================================================================\n",
            "Total params: 335,114\n",
            "Trainable params: 335,114\n",
            "Non-trainable params: 0\n",
            "_________________________________________________________________\n",
            "Epoch 1/10\n",
            "480/480 [==============================] - 2s 4ms/step - loss: 0.6733 - acc: 0.8142 - val_loss: 0.2351 - val_acc: 0.9389\n",
            "Epoch 2/10\n",
            "480/480 [==============================] - 2s 3ms/step - loss: 0.1855 - acc: 0.9504 - val_loss: 0.1510 - val_acc: 0.9573\n",
            "Epoch 3/10\n",
            "480/480 [==============================] - 2s 3ms/step - loss: 0.1168 - acc: 0.9684 - val_loss: 0.1415 - val_acc: 0.9625\n",
            "Epoch 4/10\n",
            "480/480 [==============================] - 2s 3ms/step - loss: 0.0851 - acc: 0.9759 - val_loss: 0.1126 - val_acc: 0.9699\n",
            "Epoch 5/10\n",
            "480/480 [==============================] - 2s 3ms/step - loss: 0.0623 - acc: 0.9823 - val_loss: 0.1072 - val_acc: 0.9737\n",
            "Epoch 6/10\n",
            "480/480 [==============================] - 2s 3ms/step - loss: 0.0482 - acc: 0.9863 - val_loss: 0.1032 - val_acc: 0.9732\n",
            "Epoch 7/10\n",
            "480/480 [==============================] - 2s 3ms/step - loss: 0.0386 - acc: 0.9896 - val_loss: 0.1161 - val_acc: 0.9718\n",
            "Epoch 8/10\n",
            "480/480 [==============================] - 2s 3ms/step - loss: 0.0341 - acc: 0.9903 - val_loss: 0.1193 - val_acc: 0.9711\n",
            "Epoch 9/10\n",
            "480/480 [==============================] - 2s 3ms/step - loss: 0.0269 - acc: 0.9919 - val_loss: 0.1209 - val_acc: 0.9710\n",
            "Epoch 10/10\n",
            "480/480 [==============================] - 2s 3ms/step - loss: 0.0237 - acc: 0.9934 - val_loss: 0.1023 - val_acc: 0.9774\n"
          ]
        }
      ]
    },
    {
      "cell_type": "code",
      "source": [
        "# Adam\n",
        "model.evaluate(x_test, y_test, verbose=0)"
      ],
      "metadata": {
        "colab": {
          "base_uri": "https://localhost:8080/"
        },
        "id": "ZOWBr-SFZY42",
        "outputId": "f42fc14b-3f0e-4695-a0d0-e9e05589fbe4"
      },
      "execution_count": null,
      "outputs": [
        {
          "output_type": "execute_result",
          "data": {
            "text/plain": [
              "[0.26526620984077454, 0.9257000088691711]"
            ]
          },
          "metadata": {},
          "execution_count": 17
        }
      ]
    },
    {
      "cell_type": "code",
      "source": [
        "# RMSProp\n",
        "model.evaluate(x_test, y_test, verbose=0)"
      ],
      "metadata": {
        "colab": {
          "base_uri": "https://localhost:8080/"
        },
        "id": "VLnKQH87Zlks",
        "outputId": "d485ea18-da46-47c7-a4e2-c71f5a18ad98"
      },
      "execution_count": null,
      "outputs": [
        {
          "output_type": "execute_result",
          "data": {
            "text/plain": [
              "[0.09660395234823227, 0.9769999980926514]"
            ]
          },
          "metadata": {},
          "execution_count": 31
        }
      ]
    },
    {
      "cell_type": "code",
      "source": [
        "# validation used / val_loss 가 점차 줄어들고 있는가? 확인. \n",
        "# 이 val_loss 를 보고 튜닝\n",
        "# (100, 10) = (100, 784) @ (784, 10) \n",
        "model = softmax_regression_onehot(x_train, y_train)\n",
        "model.evaluate(x_test, y_test, verbose=0)"
      ],
      "metadata": {
        "colab": {
          "base_uri": "https://localhost:8080/"
        },
        "id": "HdHuXnM9xh8i",
        "outputId": "176630cc-9ab9-43e2-b1f5-5bbecdefc981"
      },
      "execution_count": null,
      "outputs": [
        {
          "output_type": "stream",
          "name": "stdout",
          "text": [
            "Model: \"sequential_4\"\n",
            "_________________________________________________________________\n",
            " Layer (type)                Output Shape              Param #   \n",
            "=================================================================\n",
            " dense_4 (Dense)             (None, 10)                7850      \n",
            "                                                                 \n",
            "=================================================================\n",
            "Total params: 7,850\n",
            "Trainable params: 7,850\n",
            "Non-trainable params: 0\n",
            "_________________________________________________________________\n",
            "Epoch 1/10\n",
            "480/480 [==============================] - 2s 3ms/step - loss: 0.6248 - acc: 0.8449 - val_loss: 0.3461 - val_acc: 0.9055\n",
            "Epoch 2/10\n",
            "480/480 [==============================] - 1s 3ms/step - loss: 0.3414 - acc: 0.9054 - val_loss: 0.3002 - val_acc: 0.9176\n",
            "Epoch 3/10\n",
            "480/480 [==============================] - 1s 3ms/step - loss: 0.3097 - acc: 0.9138 - val_loss: 0.2857 - val_acc: 0.9202\n",
            "Epoch 4/10\n",
            "480/480 [==============================] - 1s 3ms/step - loss: 0.2950 - acc: 0.9178 - val_loss: 0.2779 - val_acc: 0.9231\n",
            "Epoch 5/10\n",
            "480/480 [==============================] - 1s 3ms/step - loss: 0.2863 - acc: 0.9205 - val_loss: 0.2743 - val_acc: 0.9241\n",
            "Epoch 6/10\n",
            "480/480 [==============================] - 1s 3ms/step - loss: 0.2808 - acc: 0.9218 - val_loss: 0.2696 - val_acc: 0.9259\n",
            "Epoch 7/10\n",
            "480/480 [==============================] - 1s 3ms/step - loss: 0.2763 - acc: 0.9233 - val_loss: 0.2667 - val_acc: 0.9286\n",
            "Epoch 8/10\n",
            "480/480 [==============================] - 2s 3ms/step - loss: 0.2729 - acc: 0.9241 - val_loss: 0.2650 - val_acc: 0.9291\n",
            "Epoch 9/10\n",
            "480/480 [==============================] - 1s 3ms/step - loss: 0.2700 - acc: 0.9252 - val_loss: 0.2644 - val_acc: 0.9283\n",
            "Epoch 10/10\n",
            "480/480 [==============================] - 1s 3ms/step - loss: 0.2680 - acc: 0.9263 - val_loss: 0.2643 - val_acc: 0.9292\n"
          ]
        },
        {
          "output_type": "execute_result",
          "data": {
            "text/plain": [
              "[0.27344775199890137, 0.9259999990463257]"
            ]
          },
          "metadata": {},
          "execution_count": 25
        }
      ]
    },
    {
      "cell_type": "markdown",
      "source": [
        "# DL_4_4_cnn_basic.py"
      ],
      "metadata": {
        "id": "c8JbNrLlF-VE"
      }
    },
    {
      "cell_type": "code",
      "source": [
        "import tensorflow as tf\n",
        "\n",
        "mnist = tf.keras.datasets.mnist.load_data()"
      ],
      "metadata": {
        "colab": {
          "base_uri": "https://localhost:8080/"
        },
        "id": "re3Op2Bkx13V",
        "outputId": "2c12dfa6-aa66-4223-ec7a-868c16d7f2f6"
      },
      "execution_count": null,
      "outputs": [
        {
          "output_type": "stream",
          "name": "stdout",
          "text": [
            "Downloading data from https://storage.googleapis.com/tensorflow/tf-keras-datasets/mnist.npz\n",
            "11490434/11490434 [==============================] - 0s 0us/step\n"
          ]
        }
      ]
    },
    {
      "cell_type": "code",
      "source": [
        "def softmax_regression_onehot(x, y):\n",
        "    # Sequential 모델링 문법\n",
        "    model = tf.keras.Sequential()\n",
        "\n",
        "    model.add(tf.keras.layers.Input(shape=[28, 28, 1]))\n",
        "    model.add(tf.keras.layers.Conv2D(filters=6, kernel_size=[5, 5], strides=1, padding='same', activation='relu'))\n",
        "    model.add(tf.keras.layers.MaxPool2D(pool_size=[2, 2], strides=2,padding='same'))\n",
        "    model.add(tf.keras.layers.Conv2D(filters=10, kernel_size=[5, 5], strides=1, padding='same', activation='relu'))\n",
        "    model.add(tf.keras.layers.MaxPool2D(pool_size=[2, 2], strides=2,padding='same'))\n",
        "    model.add(tf.keras.layers.Flatten())\n",
        "    # model.add(tf.keras.layers.Dense(128, activation='relu')) \n",
        "    # Dense layer를 추가한 이유: output 10개를 추출하기 전에 하나의 단계를 더 넣음.\n",
        "    # -> 하지만 모델이 무거워질 수록/ 깊어질 수록 Dense layer(는 parameter 값이 너무 많아짐)를 굳이 쓰지 않아도 성능이 잘나온다.\n",
        "\n",
        "    model.add(tf.keras.layers.Dense(10, activation='softmax'))\n",
        "    model.summary()    \n",
        "\n",
        "    # optimizer = SGD, Adam, RMSProp\n",
        "    model.compile(optimizer=tf.keras.optimizers.Adam(0.001),\n",
        "                loss=tf.keras.losses.sparse_categorical_crossentropy,\n",
        "                metrics='acc')\n",
        "\n",
        "    model.fit(x, y, epochs=10, batch_size=100, verbose=1, \n",
        "              validation_split=0.2) # default batch=32 \n",
        "\n",
        "    return model"
      ],
      "metadata": {
        "id": "EvtPFavwGPzn"
      },
      "execution_count": null,
      "outputs": []
    },
    {
      "cell_type": "code",
      "source": [
        "(x_train, y_train), (x_test, y_test) = mnist"
      ],
      "metadata": {
        "id": "A3_KsX3UGZwM"
      },
      "execution_count": null,
      "outputs": []
    },
    {
      "cell_type": "code",
      "source": [
        "print(x_train.shape, x_test.shape)\n",
        "print(y_train.shape, y_test.shape)"
      ],
      "metadata": {
        "colab": {
          "base_uri": "https://localhost:8080/"
        },
        "id": "JwP7uLyCGjCL",
        "outputId": "96860c3a-3c0c-4c1c-cfc0-456709951a63"
      },
      "execution_count": null,
      "outputs": [
        {
          "output_type": "stream",
          "name": "stdout",
          "text": [
            "(60000, 28, 28) (10000, 28, 28)\n",
            "(60000,) (10000,)\n"
          ]
        }
      ]
    },
    {
      "cell_type": "code",
      "source": [
        "x_train = x_train.reshape(-1, 28, 28, 1)\n",
        "x_test = x_test.reshape(-1, 28, 28, 1)"
      ],
      "metadata": {
        "id": "iMOQ6q7jGUZe"
      },
      "execution_count": null,
      "outputs": []
    },
    {
      "cell_type": "code",
      "source": [
        "# minmax scale\n",
        "x_train = x_train/255\n",
        "x_test = x_test/255"
      ],
      "metadata": {
        "id": "i-uYcslGGUXZ"
      },
      "execution_count": null,
      "outputs": []
    },
    {
      "cell_type": "code",
      "source": [
        "model = softmax_regression_onehot(x_train, y_train)\n",
        "model.evaluate(x_test, y_test, verbose=0)"
      ],
      "metadata": {
        "colab": {
          "base_uri": "https://localhost:8080/"
        },
        "id": "uozTx5CDGimU",
        "outputId": "51437fcc-e359-4d5e-ffcc-e43322776c00"
      },
      "execution_count": null,
      "outputs": [
        {
          "output_type": "stream",
          "name": "stdout",
          "text": [
            "Model: \"sequential_3\"\n",
            "_________________________________________________________________\n",
            " Layer (type)                Output Shape              Param #   \n",
            "=================================================================\n",
            " conv2d_3 (Conv2D)           (None, 28, 28, 6)         156       \n",
            "                                                                 \n",
            " max_pooling2d_2 (MaxPooling  (None, 14, 14, 6)        0         \n",
            " 2D)                                                             \n",
            "                                                                 \n",
            " conv2d_4 (Conv2D)           (None, 14, 14, 10)        1510      \n",
            "                                                                 \n",
            " max_pooling2d_3 (MaxPooling  (None, 7, 7, 10)         0         \n",
            " 2D)                                                             \n",
            "                                                                 \n",
            " flatten (Flatten)           (None, 490)               0         \n",
            "                                                                 \n",
            " dense_2 (Dense)             (None, 128)               62848     \n",
            "                                                                 \n",
            " dense_3 (Dense)             (None, 10)                1290      \n",
            "                                                                 \n",
            "=================================================================\n",
            "Total params: 65,804\n",
            "Trainable params: 65,804\n",
            "Non-trainable params: 0\n",
            "_________________________________________________________________\n",
            "Epoch 1/10\n",
            "480/480 [==============================] - 10s 4ms/step - loss: 0.3485 - acc: 0.8939 - val_loss: 0.1046 - val_acc: 0.9699\n",
            "Epoch 2/10\n",
            "480/480 [==============================] - 2s 4ms/step - loss: 0.0927 - acc: 0.9712 - val_loss: 0.0752 - val_acc: 0.9775\n",
            "Epoch 3/10\n",
            "480/480 [==============================] - 2s 4ms/step - loss: 0.0659 - acc: 0.9790 - val_loss: 0.0583 - val_acc: 0.9821\n",
            "Epoch 4/10\n",
            "480/480 [==============================] - 2s 4ms/step - loss: 0.0541 - acc: 0.9829 - val_loss: 0.0576 - val_acc: 0.9825\n",
            "Epoch 5/10\n",
            "480/480 [==============================] - 2s 4ms/step - loss: 0.0446 - acc: 0.9867 - val_loss: 0.0488 - val_acc: 0.9861\n",
            "Epoch 6/10\n",
            "480/480 [==============================] - 2s 4ms/step - loss: 0.0388 - acc: 0.9875 - val_loss: 0.0429 - val_acc: 0.9869\n",
            "Epoch 7/10\n",
            "480/480 [==============================] - 2s 4ms/step - loss: 0.0323 - acc: 0.9897 - val_loss: 0.0468 - val_acc: 0.9869\n",
            "Epoch 8/10\n",
            "480/480 [==============================] - 2s 4ms/step - loss: 0.0282 - acc: 0.9908 - val_loss: 0.0424 - val_acc: 0.9880\n",
            "Epoch 9/10\n",
            "480/480 [==============================] - 2s 4ms/step - loss: 0.0246 - acc: 0.9918 - val_loss: 0.0455 - val_acc: 0.9873\n",
            "Epoch 10/10\n",
            "480/480 [==============================] - 2s 4ms/step - loss: 0.0210 - acc: 0.9929 - val_loss: 0.0502 - val_acc: 0.9868\n"
          ]
        },
        {
          "output_type": "execute_result",
          "data": {
            "text/plain": [
              "[0.04618501290678978, 0.9847000241279602]"
            ]
          },
          "metadata": {},
          "execution_count": 21
        }
      ]
    },
    {
      "cell_type": "code",
      "source": [],
      "metadata": {
        "id": "R9yVVTZuGUVD"
      },
      "execution_count": null,
      "outputs": []
    },
    {
      "cell_type": "code",
      "source": [],
      "metadata": {
        "id": "K8KAeONDGUR8"
      },
      "execution_count": null,
      "outputs": []
    },
    {
      "cell_type": "markdown",
      "source": [
        "# DL_4_5_vgg16.py"
      ],
      "metadata": {
        "id": "d-DwhcDiGFaP"
      }
    },
    {
      "cell_type": "markdown",
      "source": [
        "https://github.com/tensorflow/models/blob/master/research/slim/nets/vgg.py "
      ],
      "metadata": {
        "id": "MpdRVAxEU2uq"
      }
    },
    {
      "cell_type": "code",
      "source": [
        "import tensorflow as tf\n",
        "\n",
        "# functional 모델링 문법\n",
        "inputs = tf.keras.layers.Input(shape=[224, 224, 3])\n",
        "x = tf.keras.layers.Conv2D(64, [3, 3], 1, 'same', activation='relu')(inputs)\n",
        "x = tf.keras.layers.Conv2D(64, [3, 3], 1, 'same', activation='relu')(x)\n",
        "x = tf.keras.layers.MaxPool2D([2, 2], 2)(x)\n",
        "\n",
        "x = tf.keras.layers.Conv2D(128, [3, 3], 1, 'same', activation='relu')(x)\n",
        "x = tf.keras.layers.Conv2D(128, [3, 3], 1, 'same', activation='relu')(x)\n",
        "x = tf.keras.layers.MaxPool2D([2, 2], 2)(x)\n",
        "\n",
        "x = tf.keras.layers.Conv2D(256, [3, 3], 1, 'same', activation='relu')(x)\n",
        "x = tf.keras.layers.Conv2D(256, [3, 3], 1, 'same', activation='relu')(x)\n",
        "x = tf.keras.layers.Conv2D(256, [3, 3], 1, 'same', activation='relu')(x)\n",
        "x = tf.keras.layers.MaxPool2D([2, 2], 2)(x)\n",
        "\n",
        "x = tf.keras.layers.Conv2D(512, [3, 3], 1, 'same', activation='relu')(x)\n",
        "x = tf.keras.layers.Conv2D(512, [3, 3], 1, 'same', activation='relu')(x)\n",
        "x = tf.keras.layers.Conv2D(512, [3, 3], 1, 'same', activation='relu')(x)\n",
        "x = tf.keras.layers.MaxPool2D([2, 2], 2)(x)\n",
        "\n",
        "x = tf.keras.layers.Conv2D(512, [3, 3], 1, 'same', activation='relu')(x)\n",
        "x = tf.keras.layers.Conv2D(512, [3, 3], 1, 'same', activation='relu')(x)\n",
        "x = tf.keras.layers.Conv2D(512, [3, 3], 1, 'same', activation='relu')(x)\n",
        "x = tf.keras.layers.MaxPool2D([2, 2], 2)(x)\n",
        "\n",
        "x = tf.keras.layers.Flatten()(x)\n",
        "\n",
        "x = tf.keras.layers.Dense(4096, activation='relu')(x)\n",
        "x = tf.keras.layers.Dense(4096, activation='relu')(x)\n",
        "x = tf.keras.layers.Dense(1000, activation='relu')(x)\n",
        "\n",
        "model = tf.keras.Model(inputs, x)\n",
        "model.summary()"
      ],
      "metadata": {
        "colab": {
          "base_uri": "https://localhost:8080/"
        },
        "id": "j6WlWOg6GGrw",
        "outputId": "f1e4d196-85d1-4ff0-c276-606501f15e39"
      },
      "execution_count": null,
      "outputs": [
        {
          "output_type": "stream",
          "name": "stdout",
          "text": [
            "Model: \"model_2\"\n",
            "_________________________________________________________________\n",
            " Layer (type)                Output Shape              Param #   \n",
            "=================================================================\n",
            " input_8 (InputLayer)        [(None, 224, 224, 3)]     0         \n",
            "                                                                 \n",
            " conv2d_22 (Conv2D)          (None, 224, 224, 64)      1792      \n",
            "                                                                 \n",
            " conv2d_23 (Conv2D)          (None, 224, 224, 64)      36928     \n",
            "                                                                 \n",
            " max_pooling2d_11 (MaxPoolin  (None, 112, 112, 64)     0         \n",
            " g2D)                                                            \n",
            "                                                                 \n",
            " conv2d_24 (Conv2D)          (None, 112, 112, 128)     73856     \n",
            "                                                                 \n",
            " conv2d_25 (Conv2D)          (None, 112, 112, 128)     147584    \n",
            "                                                                 \n",
            " max_pooling2d_12 (MaxPoolin  (None, 56, 56, 128)      0         \n",
            " g2D)                                                            \n",
            "                                                                 \n",
            " conv2d_26 (Conv2D)          (None, 56, 56, 256)       295168    \n",
            "                                                                 \n",
            " conv2d_27 (Conv2D)          (None, 56, 56, 256)       590080    \n",
            "                                                                 \n",
            " conv2d_28 (Conv2D)          (None, 56, 56, 256)       590080    \n",
            "                                                                 \n",
            " max_pooling2d_13 (MaxPoolin  (None, 28, 28, 256)      0         \n",
            " g2D)                                                            \n",
            "                                                                 \n",
            " conv2d_29 (Conv2D)          (None, 28, 28, 512)       1180160   \n",
            "                                                                 \n",
            " conv2d_30 (Conv2D)          (None, 28, 28, 512)       2359808   \n",
            "                                                                 \n",
            " conv2d_31 (Conv2D)          (None, 28, 28, 512)       2359808   \n",
            "                                                                 \n",
            " max_pooling2d_14 (MaxPoolin  (None, 14, 14, 512)      0         \n",
            " g2D)                                                            \n",
            "                                                                 \n",
            " conv2d_32 (Conv2D)          (None, 14, 14, 512)       2359808   \n",
            "                                                                 \n",
            " conv2d_33 (Conv2D)          (None, 14, 14, 512)       2359808   \n",
            "                                                                 \n",
            " conv2d_34 (Conv2D)          (None, 14, 14, 512)       2359808   \n",
            "                                                                 \n",
            " max_pooling2d_15 (MaxPoolin  (None, 7, 7, 512)        0         \n",
            " g2D)                                                            \n",
            "                                                                 \n",
            " flatten_2 (Flatten)         (None, 25088)             0         \n",
            "                                                                 \n",
            " dense_6 (Dense)             (None, 4096)              102764544 \n",
            "                                                                 \n",
            " dense_7 (Dense)             (None, 4096)              16781312  \n",
            "                                                                 \n",
            " dense_8 (Dense)             (None, 1000)              4097000   \n",
            "                                                                 \n",
            "=================================================================\n",
            "Total params: 138,357,544\n",
            "Trainable params: 138,357,544\n",
            "Non-trainable params: 0\n",
            "_________________________________________________________________\n"
          ]
        }
      ]
    },
    {
      "cell_type": "markdown",
      "source": [
        "# Google Inception"
      ],
      "metadata": {
        "id": "377QY2vLVIm5"
      }
    },
    {
      "cell_type": "markdown",
      "source": [
        "inception_v4.py\n",
        "\n",
        "https://github.com/tensorflow/models/blob/master/research/slim/nets/inception_v4.py"
      ],
      "metadata": {
        "id": "a6XNdoNPVL-x"
      }
    },
    {
      "cell_type": "markdown",
      "source": [],
      "metadata": {
        "id": "HirmL5xEZuJs"
      }
    },
    {
      "cell_type": "markdown",
      "source": [
        "### Example) 5X5 이미지가 있을 때\n",
        "\n",
        "\n",
        "0 0 0 0 0\n",
        "\n",
        "0 0 0 0 0\n",
        "\n",
        "0 0 0 0 0\n",
        "\n",
        "0 0 0 0 0\n",
        "\n",
        "0 0 0 0 0\n",
        "\n"
      ],
      "metadata": {
        "id": "ykRymL33XEnW"
      }
    },
    {
      "cell_type": "markdown",
      "source": [
        "        5X5 = 1  \n",
        "        --> 25\n",
        "\n",
        "        3X3 = 3X3\n",
        "                  3X3 = 1\n",
        "        --> 9+9 = 18\n",
        "\n",
        "        1X5 = 5X1\n",
        "                 5X1 = 1\n",
        "        --> 5+5 = 10"
      ],
      "metadata": {
        "id": "9HDfLb6HXfAI"
      }
    },
    {
      "cell_type": "code",
      "source": [],
      "metadata": {
        "id": "0Xer3SvsSoWB"
      },
      "execution_count": null,
      "outputs": []
    },
    {
      "cell_type": "markdown",
      "source": [
        "# DL_4_6_dogs_vs_cats.py"
      ],
      "metadata": {
        "id": "hYyA_fXmaWtv"
      }
    },
    {
      "cell_type": "code",
      "source": [
        "import tensorflow as tf"
      ],
      "metadata": {
        "id": "3jbE_NvsaazH"
      },
      "execution_count": 1,
      "outputs": []
    },
    {
      "cell_type": "code",
      "source": [
        "gen_train = tf.keras.preprocessing.image.ImageDataGenerator() # 학습용\n",
        "gen_valid = tf.keras.preprocessing.image.ImageDataGenerator() # 튜닝용"
      ],
      "metadata": {
        "id": "RYW6pq0mad5a"
      },
      "execution_count": 2,
      "outputs": []
    },
    {
      "cell_type": "code",
      "source": [
        "gen_train = tf.keras.preprocessing.image.ImageDataGenerator(rescale=1/255, \n",
        "                                                                                                horizontal_flip=True,\n",
        "                                                                                                zoom_range=0.2,\n",
        "                                                                                                width_shift_range=0.2)\n",
        "gen_valid = tf.keras.preprocessing.image.ImageDataGenerator(rescale=1/255) # arguemetation 하지 않는다."
      ],
      "metadata": {
        "id": "aTgEFNFPdimQ"
      },
      "execution_count": 3,
      "outputs": []
    },
    {
      "cell_type": "markdown",
      "source": [
        "## 이미지 읽어오기"
      ],
      "metadata": {
        "id": "WT4Z5Shuaugq"
      }
    },
    {
      "cell_type": "code",
      "source": [
        "import pandas as pd\n",
        "\n",
        "flow_train = gen_train.flow_from_directory('/content/drive/MyDrive/디지털오픈랩 딥러닝 교육/data/dogs_vs_cats_small/train',\n",
        "                                           target_size=[150, 150],\n",
        "                                           batch_size=32,\n",
        "                                           class_mode='binary') \n",
        "flow_valid = gen_valid.flow_from_directory('/content/drive/MyDrive/디지털오픈랩 딥러닝 교육/data/dogs_vs_cats_small/valid',\n",
        "                                           target_size=[150, 150],\n",
        "                                           batch_size=32,\n",
        "                                           class_mode='binary') \n",
        "flow_test = gen_valid.flow_from_directory('/content/drive/MyDrive/디지털오픈랩 딥러닝 교육/data/dogs_vs_cats_small/test',\n",
        "                                           target_size=[150, 150],\n",
        "                                           batch_size=32,\n",
        "                                           class_mode='binary') "
      ],
      "metadata": {
        "colab": {
          "base_uri": "https://localhost:8080/"
        },
        "id": "UWBVrZ5oauKi",
        "outputId": "bb807885-d45e-4f1b-87df-716a09035816"
      },
      "execution_count": 5,
      "outputs": [
        {
          "output_type": "stream",
          "name": "stdout",
          "text": [
            "Found 2000 images belonging to 2 classes.\n",
            "Found 1000 images belonging to 2 classes.\n",
            "Found 1000 images belonging to 2 classes.\n"
          ]
        }
      ]
    },
    {
      "cell_type": "code",
      "source": [
        "def softmax_regression_onehot(xy, valid):\n",
        "    model = tf.keras.Sequential()\n",
        "\n",
        "    model.add(tf.keras.layers.Input(shape=[150, 150, 1]))\n",
        "    model.add(tf.keras.layers.Conv2D(filters=6, kernel_size=[3, 3], strides=1, padding='same', activation='relu'))\n",
        "    model.add(tf.keras.layers.MaxPool2D(pool_size=[2, 2], strides=2,padding='same'))\n",
        "    model.add(tf.keras.layers.Conv2D(filters=10, kernel_size=[3, 3], strides=1, padding='same', activation='relu'))\n",
        "    model.add(tf.keras.layers.MaxPool2D(pool_size=[2, 2], strides=2,padding='same'))\n",
        "    model.add(tf.keras.layers.Flatten())\n",
        "\n",
        "    model.add(tf.keras.layers.Dense(128, activation='relu'))\n",
        "    model.add(tf.keras.layers.Dense(1, activation='sigmoid'))\n",
        "    model.summary()    \n",
        "\n",
        "    # optimizer = SGD, Adam, RMSProp\n",
        "    model.compile(optimizer=tf.keras.optimizers.Adam(0.001),\n",
        "                loss=tf.keras.losses.binary_crossentropy,\n",
        "                metrics='acc')\n",
        "\n",
        "    model.fit(xy, epochs=10, verbose=1, validation_data=valid) \n",
        "\n",
        "    return model"
      ],
      "metadata": {
        "id": "oOPgx-57bl0Q"
      },
      "execution_count": 6,
      "outputs": []
    },
    {
      "cell_type": "code",
      "source": [
        "model = softmax_regression_onehot(flow_train, flow_valid)\n",
        "model.evaluate(x_test, y_test, verbose=0)"
      ],
      "metadata": {
        "colab": {
          "base_uri": "https://localhost:8080/"
        },
        "outputId": "9cdeaf32-b110-4617-bd12-52db572c7a1e",
        "id": "p3ej3ag5cEhW"
      },
      "execution_count": null,
      "outputs": [
        {
          "output_type": "stream",
          "name": "stdout",
          "text": [
            "Model: \"sequential\"\n",
            "_________________________________________________________________\n",
            " Layer (type)                Output Shape              Param #   \n",
            "=================================================================\n",
            " conv2d (Conv2D)             (None, 150, 150, 6)       60        \n",
            "                                                                 \n",
            " max_pooling2d (MaxPooling2D  (None, 75, 75, 6)        0         \n",
            " )                                                               \n",
            "                                                                 \n",
            " conv2d_1 (Conv2D)           (None, 75, 75, 10)        550       \n",
            "                                                                 \n",
            " max_pooling2d_1 (MaxPooling  (None, 38, 38, 10)       0         \n",
            " 2D)                                                             \n",
            "                                                                 \n",
            " flatten (Flatten)           (None, 14440)             0         \n",
            "                                                                 \n",
            " dense (Dense)               (None, 128)               1848448   \n",
            "                                                                 \n",
            " dense_1 (Dense)             (None, 1)                 129       \n",
            "                                                                 \n",
            "=================================================================\n",
            "Total params: 1,849,187\n",
            "Trainable params: 1,849,187\n",
            "Non-trainable params: 0\n",
            "_________________________________________________________________\n",
            "Epoch 1/10\n",
            "11/63 [====>.........................] - ETA: 2:52 - loss: 0.9241 - acc: 0.4773"
          ]
        }
      ]
    },
    {
      "cell_type": "code",
      "source": [
        "# 모델 저장\n",
        "model.save('model/dog.h5')\n",
        "model = tf.keras.models.load_model('model/dogs.h5')"
      ],
      "metadata": {
        "id": "dlwUuAubgj1G"
      },
      "execution_count": null,
      "outputs": []
    },
    {
      "cell_type": "markdown",
      "source": [
        "## Keras model load"
      ],
      "metadata": {
        "id": "BDUF4x5LiAIF"
      }
    },
    {
      "cell_type": "code",
      "source": [
        "conv_base = tf.keras.applications.VGG16(include_top=False, # 마지막 output layer 가져오지 않는다.\n",
        "                                        input_shape=[150, 150, 3])"
      ],
      "metadata": {
        "id": "4okk1u_ShEJb"
      },
      "execution_count": null,
      "outputs": []
    },
    {
      "cell_type": "code",
      "source": [
        "conv_base.trainable = False"
      ],
      "metadata": {
        "id": "SFiNXiYihTlx"
      },
      "execution_count": null,
      "outputs": []
    },
    {
      "cell_type": "code",
      "source": [],
      "metadata": {
        "id": "94DowyyVfjD4"
      },
      "execution_count": null,
      "outputs": []
    }
  ]
}